{
  "nbformat": 4,
  "nbformat_minor": 0,
  "metadata": {
    "colab": {
      "name": "Copy of Irrigation water quality Index.ipynb",
      "provenance": [],
      "collapsed_sections": []
    },
    "kernelspec": {
      "name": "python3",
      "display_name": "Python 3"
    }
  },
  "cells": [
    {
      "cell_type": "code",
      "metadata": {
        "colab": {
          "base_uri": "https://localhost:8080/"
        },
        "id": "XUtBwc-71ZG2",
        "outputId": "39844497-bd36-4d07-a22e-336792bffdbe"
      },
      "source": [
        "!git clone https://github.com/adityachoudary54/iotDatasets"
      ],
      "execution_count": null,
      "outputs": [
        {
          "output_type": "stream",
          "text": [
            "Cloning into 'iotDatasets'...\n",
            "remote: Enumerating objects: 83, done.\u001b[K\n",
            "remote: Total 83 (delta 0), reused 0 (delta 0), pack-reused 83\u001b[K\n",
            "Unpacking objects: 100% (83/83), done.\n",
            "Checking out files: 100% (58/58), done.\n"
          ],
          "name": "stdout"
        }
      ]
    },
    {
      "cell_type": "code",
      "metadata": {
        "colab": {
          "base_uri": "https://localhost:8080/"
        },
        "id": "TIw3_WCF32YQ",
        "outputId": "1a97c986-7b7e-4c0e-ba61-5c66e4a84778"
      },
      "source": [
        "!unzip /content/iotDatasets/Major_Ions_csv.zip"
      ],
      "execution_count": null,
      "outputs": [
        {
          "output_type": "stream",
          "text": [
            "Archive:  /content/iotDatasets/Major_Ions_csv.zip\n",
            "  inflating: Major_Ions.csv          \n"
          ],
          "name": "stdout"
        }
      ]
    },
    {
      "cell_type": "code",
      "metadata": {
        "id": "YLMwLV5D4KX-"
      },
      "source": [
        "import pandas as pd\r\n",
        "import numpy as np\r\n"
      ],
      "execution_count": null,
      "outputs": []
    },
    {
      "cell_type": "code",
      "metadata": {
        "colab": {
          "base_uri": "https://localhost:8080/"
        },
        "id": "6FSUKufU454I",
        "outputId": "6f79023e-b7df-48b4-ccf0-fc12459310bc"
      },
      "source": [
        "df=pd.read_csv(\"/content/Major_Ions.csv\")"
      ],
      "execution_count": null,
      "outputs": [
        {
          "output_type": "stream",
          "text": [
            "/usr/local/lib/python3.6/dist-packages/IPython/core/interactiveshell.py:2718: DtypeWarning: Columns (2,5,9,13,20,21,28,29,31,32,52,53,56,58,59,62,67,68,76,77,80,82,83,88,89,92,107,109,110,112,113,118,119,121,122,124,125,127,128,130,131,133,134,136,137,140,142,143,145,146,148,149,151,152,155,161,166,170,172,173,177,179,180,182,183,185,186,191,192) have mixed types.Specify dtype option on import or set low_memory=False.\n",
            "  interactivity=interactivity, compiler=compiler, result=result)\n"
          ],
          "name": "stderr"
        }
      ]
    },
    {
      "cell_type": "code",
      "metadata": {
        "colab": {
          "base_uri": "https://localhost:8080/",
          "height": 195
        },
        "id": "VdZO0t7X7gN_",
        "outputId": "187d25f9-6a26-4380-9335-acf3e8e0f6a7"
      },
      "source": [
        "df[['SC_uScm','Cl_mgL','Na_mgL','HCO3_mgl','model_SAR']].head()"
      ],
      "execution_count": null,
      "outputs": [
        {
          "output_type": "execute_result",
          "data": {
            "text/html": [
              "<div>\n",
              "<style scoped>\n",
              "    .dataframe tbody tr th:only-of-type {\n",
              "        vertical-align: middle;\n",
              "    }\n",
              "\n",
              "    .dataframe tbody tr th {\n",
              "        vertical-align: top;\n",
              "    }\n",
              "\n",
              "    .dataframe thead th {\n",
              "        text-align: right;\n",
              "    }\n",
              "</style>\n",
              "<table border=\"1\" class=\"dataframe\">\n",
              "  <thead>\n",
              "    <tr style=\"text-align: right;\">\n",
              "      <th></th>\n",
              "      <th>SC_uScm</th>\n",
              "      <th>Cl_mgL</th>\n",
              "      <th>Na_mgL</th>\n",
              "      <th>HCO3_mgl</th>\n",
              "      <th>model_SAR</th>\n",
              "    </tr>\n",
              "  </thead>\n",
              "  <tbody>\n",
              "    <tr>\n",
              "      <th>0</th>\n",
              "      <td>1300.0</td>\n",
              "      <td>210.0</td>\n",
              "      <td>120.0</td>\n",
              "      <td>NaN</td>\n",
              "      <td>0.0901</td>\n",
              "    </tr>\n",
              "    <tr>\n",
              "      <th>1</th>\n",
              "      <td>2500.0</td>\n",
              "      <td>620.0</td>\n",
              "      <td>450.0</td>\n",
              "      <td>98.0</td>\n",
              "      <td>0.4040</td>\n",
              "    </tr>\n",
              "    <tr>\n",
              "      <th>2</th>\n",
              "      <td>390.0</td>\n",
              "      <td>15.0</td>\n",
              "      <td>58.0</td>\n",
              "      <td>NaN</td>\n",
              "      <td>0.1004</td>\n",
              "    </tr>\n",
              "    <tr>\n",
              "      <th>3</th>\n",
              "      <td>3000.0</td>\n",
              "      <td>390.0</td>\n",
              "      <td>520.0</td>\n",
              "      <td>NaN</td>\n",
              "      <td>0.3748</td>\n",
              "    </tr>\n",
              "    <tr>\n",
              "      <th>4</th>\n",
              "      <td>870.0</td>\n",
              "      <td>110.0</td>\n",
              "      <td>180.0</td>\n",
              "      <td>150.0</td>\n",
              "      <td>0.6248</td>\n",
              "    </tr>\n",
              "  </tbody>\n",
              "</table>\n",
              "</div>"
            ],
            "text/plain": [
              "   SC_uScm  Cl_mgL  Na_mgL  HCO3_mgl  model_SAR\n",
              "0   1300.0   210.0   120.0       NaN     0.0901\n",
              "1   2500.0   620.0   450.0      98.0     0.4040\n",
              "2    390.0    15.0    58.0       NaN     0.1004\n",
              "3   3000.0   390.0   520.0       NaN     0.3748\n",
              "4    870.0   110.0   180.0     150.0     0.6248"
            ]
          },
          "metadata": {
            "tags": []
          },
          "execution_count": 33
        }
      ]
    },
    {
      "cell_type": "code",
      "metadata": {
        "colab": {
          "base_uri": "https://localhost:8080/",
          "height": 195
        },
        "id": "kNrAWIRuCe6F",
        "outputId": "192ee1ed-d381-44ba-b977-e55201a1d6ad"
      },
      "source": [
        "df[['SC_uScm','Cl_mgL','Na_mgL','HCO3_mgl','model_SAR','Ca_mgL','Mg_mgL']].head()"
      ],
      "execution_count": null,
      "outputs": [
        {
          "output_type": "execute_result",
          "data": {
            "text/html": [
              "<div>\n",
              "<style scoped>\n",
              "    .dataframe tbody tr th:only-of-type {\n",
              "        vertical-align: middle;\n",
              "    }\n",
              "\n",
              "    .dataframe tbody tr th {\n",
              "        vertical-align: top;\n",
              "    }\n",
              "\n",
              "    .dataframe thead th {\n",
              "        text-align: right;\n",
              "    }\n",
              "</style>\n",
              "<table border=\"1\" class=\"dataframe\">\n",
              "  <thead>\n",
              "    <tr style=\"text-align: right;\">\n",
              "      <th></th>\n",
              "      <th>SC_uScm</th>\n",
              "      <th>Cl_mgL</th>\n",
              "      <th>Na_mgL</th>\n",
              "      <th>HCO3_mgl</th>\n",
              "      <th>model_SAR</th>\n",
              "      <th>Ca_mgL</th>\n",
              "      <th>Mg_mgL</th>\n",
              "    </tr>\n",
              "  </thead>\n",
              "  <tbody>\n",
              "    <tr>\n",
              "      <th>0</th>\n",
              "      <td>1300.0</td>\n",
              "      <td>210.0</td>\n",
              "      <td>120.0</td>\n",
              "      <td>NaN</td>\n",
              "      <td>0.0901</td>\n",
              "      <td>110.0</td>\n",
              "      <td>15.0</td>\n",
              "    </tr>\n",
              "    <tr>\n",
              "      <th>1</th>\n",
              "      <td>2500.0</td>\n",
              "      <td>620.0</td>\n",
              "      <td>450.0</td>\n",
              "      <td>98.0</td>\n",
              "      <td>0.4040</td>\n",
              "      <td>86.0</td>\n",
              "      <td>5.0</td>\n",
              "    </tr>\n",
              "    <tr>\n",
              "      <th>2</th>\n",
              "      <td>390.0</td>\n",
              "      <td>15.0</td>\n",
              "      <td>58.0</td>\n",
              "      <td>NaN</td>\n",
              "      <td>0.1004</td>\n",
              "      <td>23.0</td>\n",
              "      <td>1.4</td>\n",
              "    </tr>\n",
              "    <tr>\n",
              "      <th>3</th>\n",
              "      <td>3000.0</td>\n",
              "      <td>390.0</td>\n",
              "      <td>520.0</td>\n",
              "      <td>NaN</td>\n",
              "      <td>0.3748</td>\n",
              "      <td>110.0</td>\n",
              "      <td>22.0</td>\n",
              "    </tr>\n",
              "    <tr>\n",
              "      <th>4</th>\n",
              "      <td>870.0</td>\n",
              "      <td>110.0</td>\n",
              "      <td>180.0</td>\n",
              "      <td>150.0</td>\n",
              "      <td>0.6248</td>\n",
              "      <td>3.0</td>\n",
              "      <td>2.0</td>\n",
              "    </tr>\n",
              "  </tbody>\n",
              "</table>\n",
              "</div>"
            ],
            "text/plain": [
              "   SC_uScm  Cl_mgL  Na_mgL  HCO3_mgl  model_SAR  Ca_mgL  Mg_mgL\n",
              "0   1300.0   210.0   120.0       NaN     0.0901   110.0    15.0\n",
              "1   2500.0   620.0   450.0      98.0     0.4040    86.0     5.0\n",
              "2    390.0    15.0    58.0       NaN     0.1004    23.0     1.4\n",
              "3   3000.0   390.0   520.0       NaN     0.3748   110.0    22.0\n",
              "4    870.0   110.0   180.0     150.0     0.6248     3.0     2.0"
            ]
          },
          "metadata": {
            "tags": []
          },
          "execution_count": 34
        }
      ]
    },
    {
      "cell_type": "code",
      "metadata": {
        "id": "Y7aYZPLI5A6y"
      },
      "source": [
        "#paramaeters we need\r\n",
        "#EC #TDS #SAR #Boron, #Bicarbonate #Sodium #Magnesium #Calcium #Nitrate Nitrogen\r\n",
        "#Iron Bicarbonate #chloride\r\n",
        "#Conver mg/l to mmol/L dividing values with molar mass"
      ],
      "execution_count": null,
      "outputs": []
    },
    {
      "cell_type": "code",
      "metadata": {
        "colab": {
          "base_uri": "https://localhost:8080/"
        },
        "id": "k5CoTsunGH2q",
        "outputId": "fb4894b6-d43a-4cc3-a62b-e0efaa1674f5"
      },
      "source": [
        "Na,Ca,Mg=120.0/23, 110/40, 15/24\r\n",
        "Na/(Ca+Mg)**(0.5)"
      ],
      "execution_count": null,
      "outputs": [
        {
          "output_type": "execute_result",
          "data": {
            "text/plain": [
              "2.8399881075746993"
            ]
          },
          "metadata": {
            "tags": []
          },
          "execution_count": 36
        }
      ]
    },
    {
      "cell_type": "code",
      "metadata": {
        "id": "0hRCL5spDQL6"
      },
      "source": [
        "# Na,Ca,Mg=120.0/23, 110/40, 15/24\r\n",
        "Na,Ca,Mg=450.0/23, 86/40, 5/24"
      ],
      "execution_count": null,
      "outputs": []
    },
    {
      "cell_type": "code",
      "metadata": {
        "colab": {
          "base_uri": "https://localhost:8080/"
        },
        "id": "G8oChF-PDEke",
        "outputId": "bcb469b8-89b7-4196-b09b-ee27ee38fe94"
      },
      "source": [
        "Na/(Ca+Mg)**(0.5)"
      ],
      "execution_count": null,
      "outputs": [
        {
          "output_type": "execute_result",
          "data": {
            "text/plain": [
              "12.740371239588875"
            ]
          },
          "metadata": {
            "tags": []
          },
          "execution_count": 38
        }
      ]
    },
    {
      "cell_type": "code",
      "metadata": {
        "id": "dXYAzXTmDl1y"
      },
      "source": [
        "new_df = df\r\n",
        "new_df['model_SAR'] = ((new_df['Na_mgL']/23)/((new_df['Ca_mgL']/40)+(new_df['Mg_mgL']/24))**0.5)"
      ],
      "execution_count": null,
      "outputs": []
    },
    {
      "cell_type": "code",
      "metadata": {
        "colab": {
          "base_uri": "https://localhost:8080/",
          "height": 195
        },
        "id": "I41TdVdCr0CX",
        "outputId": "2c8a8614-48d7-4ad7-e279-2e89c426d000"
      },
      "source": [
        "new_df[['SC_uScm','Cl_mgL','Na_mgL','HCO3_mgl','model_SAR','Ca_mgL','Mg_mgL']].head()"
      ],
      "execution_count": null,
      "outputs": [
        {
          "output_type": "execute_result",
          "data": {
            "text/html": [
              "<div>\n",
              "<style scoped>\n",
              "    .dataframe tbody tr th:only-of-type {\n",
              "        vertical-align: middle;\n",
              "    }\n",
              "\n",
              "    .dataframe tbody tr th {\n",
              "        vertical-align: top;\n",
              "    }\n",
              "\n",
              "    .dataframe thead th {\n",
              "        text-align: right;\n",
              "    }\n",
              "</style>\n",
              "<table border=\"1\" class=\"dataframe\">\n",
              "  <thead>\n",
              "    <tr style=\"text-align: right;\">\n",
              "      <th></th>\n",
              "      <th>SC_uScm</th>\n",
              "      <th>Cl_mgL</th>\n",
              "      <th>Na_mgL</th>\n",
              "      <th>HCO3_mgl</th>\n",
              "      <th>model_SAR</th>\n",
              "      <th>Ca_mgL</th>\n",
              "      <th>Mg_mgL</th>\n",
              "    </tr>\n",
              "  </thead>\n",
              "  <tbody>\n",
              "    <tr>\n",
              "      <th>0</th>\n",
              "      <td>1300.0</td>\n",
              "      <td>210.0</td>\n",
              "      <td>120.0</td>\n",
              "      <td>NaN</td>\n",
              "      <td>2.839988</td>\n",
              "      <td>110.0</td>\n",
              "      <td>15.0</td>\n",
              "    </tr>\n",
              "    <tr>\n",
              "      <th>1</th>\n",
              "      <td>2500.0</td>\n",
              "      <td>620.0</td>\n",
              "      <td>450.0</td>\n",
              "      <td>98.0</td>\n",
              "      <td>12.740371</td>\n",
              "      <td>86.0</td>\n",
              "      <td>5.0</td>\n",
              "    </tr>\n",
              "    <tr>\n",
              "      <th>2</th>\n",
              "      <td>390.0</td>\n",
              "      <td>15.0</td>\n",
              "      <td>58.0</td>\n",
              "      <td>NaN</td>\n",
              "      <td>3.168721</td>\n",
              "      <td>23.0</td>\n",
              "      <td>1.4</td>\n",
              "    </tr>\n",
              "    <tr>\n",
              "      <th>3</th>\n",
              "      <td>3000.0</td>\n",
              "      <td>390.0</td>\n",
              "      <td>520.0</td>\n",
              "      <td>NaN</td>\n",
              "      <td>11.807006</td>\n",
              "      <td>110.0</td>\n",
              "      <td>22.0</td>\n",
              "    </tr>\n",
              "    <tr>\n",
              "      <th>4</th>\n",
              "      <td>870.0</td>\n",
              "      <td>110.0</td>\n",
              "      <td>180.0</td>\n",
              "      <td>150.0</td>\n",
              "      <td>19.667923</td>\n",
              "      <td>3.0</td>\n",
              "      <td>2.0</td>\n",
              "    </tr>\n",
              "  </tbody>\n",
              "</table>\n",
              "</div>"
            ],
            "text/plain": [
              "   SC_uScm  Cl_mgL  Na_mgL  HCO3_mgl  model_SAR  Ca_mgL  Mg_mgL\n",
              "0   1300.0   210.0   120.0       NaN   2.839988   110.0    15.0\n",
              "1   2500.0   620.0   450.0      98.0  12.740371    86.0     5.0\n",
              "2    390.0    15.0    58.0       NaN   3.168721    23.0     1.4\n",
              "3   3000.0   390.0   520.0       NaN  11.807006   110.0    22.0\n",
              "4    870.0   110.0   180.0     150.0  19.667923     3.0     2.0"
            ]
          },
          "metadata": {
            "tags": []
          },
          "execution_count": 48
        }
      ]
    },
    {
      "cell_type": "code",
      "metadata": {
        "id": "jjOzI5XestiL"
      },
      "source": [
        "new_df = new_df[['SC_uScm','Cl_mgL','Na_mgL','HCO3_mgl','model_SAR','Ca_mgL','Mg_mgL']]"
      ],
      "execution_count": null,
      "outputs": []
    },
    {
      "cell_type": "code",
      "metadata": {
        "colab": {
          "base_uri": "https://localhost:8080/"
        },
        "id": "9XYYt3YevDG8",
        "outputId": "098bd37d-86db-48fe-96ac-9ee4ca0c74d6"
      },
      "source": [
        "new_df['HCO3_mgl'].isnull().sum().sum()"
      ],
      "execution_count": null,
      "outputs": [
        {
          "output_type": "execute_result",
          "data": {
            "text/plain": [
              "53618"
            ]
          },
          "metadata": {
            "tags": []
          },
          "execution_count": 51
        }
      ]
    },
    {
      "cell_type": "code",
      "metadata": {
        "colab": {
          "base_uri": "https://localhost:8080/",
          "height": 284
        },
        "id": "CWqKnxXGtHV_",
        "outputId": "6b930f15-de27-46c3-f6f2-fbeb499401bb"
      },
      "source": [
        "new_df = new_df.dropna()\r\n",
        "new_df.describe()"
      ],
      "execution_count": null,
      "outputs": [
        {
          "output_type": "execute_result",
          "data": {
            "text/html": [
              "<div>\n",
              "<style scoped>\n",
              "    .dataframe tbody tr th:only-of-type {\n",
              "        vertical-align: middle;\n",
              "    }\n",
              "\n",
              "    .dataframe tbody tr th {\n",
              "        vertical-align: top;\n",
              "    }\n",
              "\n",
              "    .dataframe thead th {\n",
              "        text-align: right;\n",
              "    }\n",
              "</style>\n",
              "<table border=\"1\" class=\"dataframe\">\n",
              "  <thead>\n",
              "    <tr style=\"text-align: right;\">\n",
              "      <th></th>\n",
              "      <th>SC_uScm</th>\n",
              "      <th>Cl_mgL</th>\n",
              "      <th>Na_mgL</th>\n",
              "      <th>HCO3_mgl</th>\n",
              "      <th>model_SAR</th>\n",
              "      <th>Ca_mgL</th>\n",
              "      <th>Mg_mgL</th>\n",
              "    </tr>\n",
              "  </thead>\n",
              "  <tbody>\n",
              "    <tr>\n",
              "      <th>count</th>\n",
              "      <td>66613.000000</td>\n",
              "      <td>66613.000000</td>\n",
              "      <td>66613.000000</td>\n",
              "      <td>66613.000000</td>\n",
              "      <td>66613.000000</td>\n",
              "      <td>66613.000000</td>\n",
              "      <td>66613.000000</td>\n",
              "    </tr>\n",
              "    <tr>\n",
              "      <th>mean</th>\n",
              "      <td>1357.250536</td>\n",
              "      <td>204.251665</td>\n",
              "      <td>194.283393</td>\n",
              "      <td>306.083907</td>\n",
              "      <td>8.521152</td>\n",
              "      <td>69.220214</td>\n",
              "      <td>26.870587</td>\n",
              "    </tr>\n",
              "    <tr>\n",
              "      <th>std</th>\n",
              "      <td>4518.059411</td>\n",
              "      <td>2525.823604</td>\n",
              "      <td>1400.424568</td>\n",
              "      <td>2135.804759</td>\n",
              "      <td>37.555357</td>\n",
              "      <td>190.359309</td>\n",
              "      <td>102.362717</td>\n",
              "    </tr>\n",
              "    <tr>\n",
              "      <th>min</th>\n",
              "      <td>10.000000</td>\n",
              "      <td>0.050000</td>\n",
              "      <td>0.100000</td>\n",
              "      <td>0.100000</td>\n",
              "      <td>0.005419</td>\n",
              "      <td>0.010000</td>\n",
              "      <td>0.004000</td>\n",
              "    </tr>\n",
              "    <tr>\n",
              "      <th>25%</th>\n",
              "      <td>380.000000</td>\n",
              "      <td>6.500000</td>\n",
              "      <td>12.000000</td>\n",
              "      <td>158.000000</td>\n",
              "      <td>0.464939</td>\n",
              "      <td>16.020000</td>\n",
              "      <td>3.600000</td>\n",
              "    </tr>\n",
              "    <tr>\n",
              "      <th>50%</th>\n",
              "      <td>666.000000</td>\n",
              "      <td>19.000000</td>\n",
              "      <td>41.000000</td>\n",
              "      <td>259.000000</td>\n",
              "      <td>1.366199</td>\n",
              "      <td>40.000000</td>\n",
              "      <td>10.690000</td>\n",
              "    </tr>\n",
              "    <tr>\n",
              "      <th>75%</th>\n",
              "      <td>1340.000000</td>\n",
              "      <td>69.100000</td>\n",
              "      <td>146.000000</td>\n",
              "      <td>371.000000</td>\n",
              "      <td>5.177704</td>\n",
              "      <td>80.400000</td>\n",
              "      <td>26.700000</td>\n",
              "    </tr>\n",
              "    <tr>\n",
              "      <th>max</th>\n",
              "      <td>241000.000000</td>\n",
              "      <td>194000.000000</td>\n",
              "      <td>121000.000000</td>\n",
              "      <td>544000.000000</td>\n",
              "      <td>6083.118289</td>\n",
              "      <td>27700.000000</td>\n",
              "      <td>9550.000000</td>\n",
              "    </tr>\n",
              "  </tbody>\n",
              "</table>\n",
              "</div>"
            ],
            "text/plain": [
              "             SC_uScm         Cl_mgL  ...        Ca_mgL        Mg_mgL\n",
              "count   66613.000000   66613.000000  ...  66613.000000  66613.000000\n",
              "mean     1357.250536     204.251665  ...     69.220214     26.870587\n",
              "std      4518.059411    2525.823604  ...    190.359309    102.362717\n",
              "min        10.000000       0.050000  ...      0.010000      0.004000\n",
              "25%       380.000000       6.500000  ...     16.020000      3.600000\n",
              "50%       666.000000      19.000000  ...     40.000000     10.690000\n",
              "75%      1340.000000      69.100000  ...     80.400000     26.700000\n",
              "max    241000.000000  194000.000000  ...  27700.000000   9550.000000\n",
              "\n",
              "[8 rows x 7 columns]"
            ]
          },
          "metadata": {
            "tags": []
          },
          "execution_count": 54
        }
      ]
    },
    {
      "cell_type": "code",
      "metadata": {
        "colab": {
          "base_uri": "https://localhost:8080/",
          "height": 195
        },
        "id": "09Xa2upSvg9N",
        "outputId": "cb207d0b-af8d-4703-c4e3-e04711bdb180"
      },
      "source": [
        "new_df = new_df.reset_index(drop=True)\r\n",
        "new_df.head()"
      ],
      "execution_count": null,
      "outputs": [
        {
          "output_type": "execute_result",
          "data": {
            "text/html": [
              "<div>\n",
              "<style scoped>\n",
              "    .dataframe tbody tr th:only-of-type {\n",
              "        vertical-align: middle;\n",
              "    }\n",
              "\n",
              "    .dataframe tbody tr th {\n",
              "        vertical-align: top;\n",
              "    }\n",
              "\n",
              "    .dataframe thead th {\n",
              "        text-align: right;\n",
              "    }\n",
              "</style>\n",
              "<table border=\"1\" class=\"dataframe\">\n",
              "  <thead>\n",
              "    <tr style=\"text-align: right;\">\n",
              "      <th></th>\n",
              "      <th>SC_uScm</th>\n",
              "      <th>Cl_mgL</th>\n",
              "      <th>Na_mgL</th>\n",
              "      <th>HCO3_mgl</th>\n",
              "      <th>model_SAR</th>\n",
              "      <th>Ca_mgL</th>\n",
              "      <th>Mg_mgL</th>\n",
              "    </tr>\n",
              "  </thead>\n",
              "  <tbody>\n",
              "    <tr>\n",
              "      <th>0</th>\n",
              "      <td>2500.0</td>\n",
              "      <td>620.0</td>\n",
              "      <td>450.0</td>\n",
              "      <td>98.0</td>\n",
              "      <td>12.740371</td>\n",
              "      <td>86.0</td>\n",
              "      <td>5.0</td>\n",
              "    </tr>\n",
              "    <tr>\n",
              "      <th>1</th>\n",
              "      <td>870.0</td>\n",
              "      <td>110.0</td>\n",
              "      <td>180.0</td>\n",
              "      <td>150.0</td>\n",
              "      <td>19.667923</td>\n",
              "      <td>3.0</td>\n",
              "      <td>2.0</td>\n",
              "    </tr>\n",
              "    <tr>\n",
              "      <th>2</th>\n",
              "      <td>1600.0</td>\n",
              "      <td>220.0</td>\n",
              "      <td>350.0</td>\n",
              "      <td>190.0</td>\n",
              "      <td>18.935640</td>\n",
              "      <td>13.0</td>\n",
              "      <td>7.7</td>\n",
              "    </tr>\n",
              "    <tr>\n",
              "      <th>3</th>\n",
              "      <td>1700.0</td>\n",
              "      <td>270.0</td>\n",
              "      <td>330.0</td>\n",
              "      <td>210.0</td>\n",
              "      <td>12.543736</td>\n",
              "      <td>29.0</td>\n",
              "      <td>14.0</td>\n",
              "    </tr>\n",
              "    <tr>\n",
              "      <th>4</th>\n",
              "      <td>3200.0</td>\n",
              "      <td>590.0</td>\n",
              "      <td>440.0</td>\n",
              "      <td>250.0</td>\n",
              "      <td>7.809967</td>\n",
              "      <td>120.0</td>\n",
              "      <td>72.0</td>\n",
              "    </tr>\n",
              "  </tbody>\n",
              "</table>\n",
              "</div>"
            ],
            "text/plain": [
              "   SC_uScm  Cl_mgL  Na_mgL  HCO3_mgl  model_SAR  Ca_mgL  Mg_mgL\n",
              "0   2500.0   620.0   450.0      98.0  12.740371    86.0     5.0\n",
              "1    870.0   110.0   180.0     150.0  19.667923     3.0     2.0\n",
              "2   1600.0   220.0   350.0     190.0  18.935640    13.0     7.7\n",
              "3   1700.0   270.0   330.0     210.0  12.543736    29.0    14.0\n",
              "4   3200.0   590.0   440.0     250.0   7.809967   120.0    72.0"
            ]
          },
          "metadata": {
            "tags": []
          },
          "execution_count": 57
        }
      ]
    },
    {
      "cell_type": "code",
      "metadata": {
        "id": "gswXbhtywI6D"
      },
      "source": [
        "new_df['Cl_mmol'] = new_df['Cl_mgL']/35.5\r\n",
        "new_df['Na_mmol'] = new_df['Na_mgL']/23\r\n",
        "new_df['HCO3_mmol'] = new_df['HCO3_mgl']/61\r\n",
        "new_df['Ca_mmol'] = new_df['Ca_mgL']/40\r\n",
        "new_df['Mg_mmol'] = new_df['Mg_mgL']/24"
      ],
      "execution_count": null,
      "outputs": []
    },
    {
      "cell_type": "code",
      "metadata": {
        "colab": {
          "base_uri": "https://localhost:8080/",
          "height": 195
        },
        "id": "aQGbGyqnxOiu",
        "outputId": "6779e108-9640-4bac-ad34-3bcaa06f47b9"
      },
      "source": [
        "new_df.head()"
      ],
      "execution_count": null,
      "outputs": [
        {
          "output_type": "execute_result",
          "data": {
            "text/html": [
              "<div>\n",
              "<style scoped>\n",
              "    .dataframe tbody tr th:only-of-type {\n",
              "        vertical-align: middle;\n",
              "    }\n",
              "\n",
              "    .dataframe tbody tr th {\n",
              "        vertical-align: top;\n",
              "    }\n",
              "\n",
              "    .dataframe thead th {\n",
              "        text-align: right;\n",
              "    }\n",
              "</style>\n",
              "<table border=\"1\" class=\"dataframe\">\n",
              "  <thead>\n",
              "    <tr style=\"text-align: right;\">\n",
              "      <th></th>\n",
              "      <th>SC_uScm</th>\n",
              "      <th>Cl_mgL</th>\n",
              "      <th>Na_mgL</th>\n",
              "      <th>HCO3_mgl</th>\n",
              "      <th>model_SAR</th>\n",
              "      <th>Ca_mgL</th>\n",
              "      <th>Mg_mgL</th>\n",
              "      <th>Cl_mmol</th>\n",
              "      <th>Na_mmol</th>\n",
              "      <th>HCO3_mmol</th>\n",
              "      <th>Ca_mmol</th>\n",
              "      <th>Mg_mmol</th>\n",
              "      <th>SC_dSm</th>\n",
              "    </tr>\n",
              "  </thead>\n",
              "  <tbody>\n",
              "    <tr>\n",
              "      <th>0</th>\n",
              "      <td>2500.0</td>\n",
              "      <td>620.0</td>\n",
              "      <td>450.0</td>\n",
              "      <td>98.0</td>\n",
              "      <td>12.740371</td>\n",
              "      <td>86.0</td>\n",
              "      <td>5.0</td>\n",
              "      <td>17.464789</td>\n",
              "      <td>19.565217</td>\n",
              "      <td>1.606557</td>\n",
              "      <td>2.150</td>\n",
              "      <td>0.208333</td>\n",
              "      <td>2.50</td>\n",
              "    </tr>\n",
              "    <tr>\n",
              "      <th>1</th>\n",
              "      <td>870.0</td>\n",
              "      <td>110.0</td>\n",
              "      <td>180.0</td>\n",
              "      <td>150.0</td>\n",
              "      <td>19.667923</td>\n",
              "      <td>3.0</td>\n",
              "      <td>2.0</td>\n",
              "      <td>3.098592</td>\n",
              "      <td>7.826087</td>\n",
              "      <td>2.459016</td>\n",
              "      <td>0.075</td>\n",
              "      <td>0.083333</td>\n",
              "      <td>0.87</td>\n",
              "    </tr>\n",
              "    <tr>\n",
              "      <th>2</th>\n",
              "      <td>1600.0</td>\n",
              "      <td>220.0</td>\n",
              "      <td>350.0</td>\n",
              "      <td>190.0</td>\n",
              "      <td>18.935640</td>\n",
              "      <td>13.0</td>\n",
              "      <td>7.7</td>\n",
              "      <td>6.197183</td>\n",
              "      <td>15.217391</td>\n",
              "      <td>3.114754</td>\n",
              "      <td>0.325</td>\n",
              "      <td>0.320833</td>\n",
              "      <td>1.60</td>\n",
              "    </tr>\n",
              "    <tr>\n",
              "      <th>3</th>\n",
              "      <td>1700.0</td>\n",
              "      <td>270.0</td>\n",
              "      <td>330.0</td>\n",
              "      <td>210.0</td>\n",
              "      <td>12.543736</td>\n",
              "      <td>29.0</td>\n",
              "      <td>14.0</td>\n",
              "      <td>7.605634</td>\n",
              "      <td>14.347826</td>\n",
              "      <td>3.442623</td>\n",
              "      <td>0.725</td>\n",
              "      <td>0.583333</td>\n",
              "      <td>1.70</td>\n",
              "    </tr>\n",
              "    <tr>\n",
              "      <th>4</th>\n",
              "      <td>3200.0</td>\n",
              "      <td>590.0</td>\n",
              "      <td>440.0</td>\n",
              "      <td>250.0</td>\n",
              "      <td>7.809967</td>\n",
              "      <td>120.0</td>\n",
              "      <td>72.0</td>\n",
              "      <td>16.619718</td>\n",
              "      <td>19.130435</td>\n",
              "      <td>4.098361</td>\n",
              "      <td>3.000</td>\n",
              "      <td>3.000000</td>\n",
              "      <td>3.20</td>\n",
              "    </tr>\n",
              "  </tbody>\n",
              "</table>\n",
              "</div>"
            ],
            "text/plain": [
              "   SC_uScm  Cl_mgL  Na_mgL  HCO3_mgl  ...  HCO3_mmol  Ca_mmol   Mg_mmol  SC_dSm\n",
              "0   2500.0   620.0   450.0      98.0  ...   1.606557    2.150  0.208333    2.50\n",
              "1    870.0   110.0   180.0     150.0  ...   2.459016    0.075  0.083333    0.87\n",
              "2   1600.0   220.0   350.0     190.0  ...   3.114754    0.325  0.320833    1.60\n",
              "3   1700.0   270.0   330.0     210.0  ...   3.442623    0.725  0.583333    1.70\n",
              "4   3200.0   590.0   440.0     250.0  ...   4.098361    3.000  3.000000    3.20\n",
              "\n",
              "[5 rows x 13 columns]"
            ]
          },
          "metadata": {
            "tags": []
          },
          "execution_count": 67
        }
      ]
    },
    {
      "cell_type": "code",
      "metadata": {
        "id": "ljxjfLxlyS30"
      },
      "source": [
        "new_df['SC_dSm'] = new_df['SC_uScm']/1000"
      ],
      "execution_count": null,
      "outputs": []
    },
    {
      "cell_type": "code",
      "metadata": {
        "id": "tdW75a51xTxz"
      },
      "source": [
        "new_features = ['Cl_mmol','Na_mmol','HCO3_mmol','Ca_mmol','Mg_mmol','model_SAR','SC_uScm']"
      ],
      "execution_count": null,
      "outputs": []
    },
    {
      "cell_type": "code",
      "metadata": {
        "colab": {
          "base_uri": "https://localhost:8080/",
          "height": 304
        },
        "id": "sfuR3ErLxuOG",
        "outputId": "41dffe55-ecbd-4c31-81fc-6033d8f9ba6d"
      },
      "source": [
        "new_df.describe()"
      ],
      "execution_count": null,
      "outputs": [
        {
          "output_type": "execute_result",
          "data": {
            "text/html": [
              "<div>\n",
              "<style scoped>\n",
              "    .dataframe tbody tr th:only-of-type {\n",
              "        vertical-align: middle;\n",
              "    }\n",
              "\n",
              "    .dataframe tbody tr th {\n",
              "        vertical-align: top;\n",
              "    }\n",
              "\n",
              "    .dataframe thead th {\n",
              "        text-align: right;\n",
              "    }\n",
              "</style>\n",
              "<table border=\"1\" class=\"dataframe\">\n",
              "  <thead>\n",
              "    <tr style=\"text-align: right;\">\n",
              "      <th></th>\n",
              "      <th>SC_uScm</th>\n",
              "      <th>Cl_mgL</th>\n",
              "      <th>Na_mgL</th>\n",
              "      <th>HCO3_mgl</th>\n",
              "      <th>model_SAR</th>\n",
              "      <th>Ca_mgL</th>\n",
              "      <th>Mg_mgL</th>\n",
              "      <th>Cl_mmol</th>\n",
              "      <th>Na_mmol</th>\n",
              "      <th>HCO3_mmol</th>\n",
              "      <th>Ca_mmol</th>\n",
              "      <th>Mg_mmol</th>\n",
              "      <th>SC_dSm</th>\n",
              "    </tr>\n",
              "  </thead>\n",
              "  <tbody>\n",
              "    <tr>\n",
              "      <th>count</th>\n",
              "      <td>66613.000000</td>\n",
              "      <td>66613.000000</td>\n",
              "      <td>66613.000000</td>\n",
              "      <td>66613.000000</td>\n",
              "      <td>66613.000000</td>\n",
              "      <td>66613.000000</td>\n",
              "      <td>66613.000000</td>\n",
              "      <td>66613.000000</td>\n",
              "      <td>66613.000000</td>\n",
              "      <td>66613.000000</td>\n",
              "      <td>66613.000000</td>\n",
              "      <td>66613.000000</td>\n",
              "      <td>66613.000000</td>\n",
              "    </tr>\n",
              "    <tr>\n",
              "      <th>mean</th>\n",
              "      <td>1357.250536</td>\n",
              "      <td>204.251665</td>\n",
              "      <td>194.283393</td>\n",
              "      <td>306.083907</td>\n",
              "      <td>8.521152</td>\n",
              "      <td>69.220214</td>\n",
              "      <td>26.870587</td>\n",
              "      <td>5.753568</td>\n",
              "      <td>8.447104</td>\n",
              "      <td>5.017769</td>\n",
              "      <td>1.730505</td>\n",
              "      <td>1.119608</td>\n",
              "      <td>1.357251</td>\n",
              "    </tr>\n",
              "    <tr>\n",
              "      <th>std</th>\n",
              "      <td>4518.059411</td>\n",
              "      <td>2525.823604</td>\n",
              "      <td>1400.424568</td>\n",
              "      <td>2135.804759</td>\n",
              "      <td>37.555357</td>\n",
              "      <td>190.359309</td>\n",
              "      <td>102.362717</td>\n",
              "      <td>71.149961</td>\n",
              "      <td>60.888025</td>\n",
              "      <td>35.013193</td>\n",
              "      <td>4.758983</td>\n",
              "      <td>4.265113</td>\n",
              "      <td>4.518059</td>\n",
              "    </tr>\n",
              "    <tr>\n",
              "      <th>min</th>\n",
              "      <td>10.000000</td>\n",
              "      <td>0.050000</td>\n",
              "      <td>0.100000</td>\n",
              "      <td>0.100000</td>\n",
              "      <td>0.005419</td>\n",
              "      <td>0.010000</td>\n",
              "      <td>0.004000</td>\n",
              "      <td>0.001408</td>\n",
              "      <td>0.004348</td>\n",
              "      <td>0.001639</td>\n",
              "      <td>0.000250</td>\n",
              "      <td>0.000167</td>\n",
              "      <td>0.010000</td>\n",
              "    </tr>\n",
              "    <tr>\n",
              "      <th>25%</th>\n",
              "      <td>380.000000</td>\n",
              "      <td>6.500000</td>\n",
              "      <td>12.000000</td>\n",
              "      <td>158.000000</td>\n",
              "      <td>0.464939</td>\n",
              "      <td>16.020000</td>\n",
              "      <td>3.600000</td>\n",
              "      <td>0.183099</td>\n",
              "      <td>0.521739</td>\n",
              "      <td>2.590164</td>\n",
              "      <td>0.400500</td>\n",
              "      <td>0.150000</td>\n",
              "      <td>0.380000</td>\n",
              "    </tr>\n",
              "    <tr>\n",
              "      <th>50%</th>\n",
              "      <td>666.000000</td>\n",
              "      <td>19.000000</td>\n",
              "      <td>41.000000</td>\n",
              "      <td>259.000000</td>\n",
              "      <td>1.366199</td>\n",
              "      <td>40.000000</td>\n",
              "      <td>10.690000</td>\n",
              "      <td>0.535211</td>\n",
              "      <td>1.782609</td>\n",
              "      <td>4.245902</td>\n",
              "      <td>1.000000</td>\n",
              "      <td>0.445417</td>\n",
              "      <td>0.666000</td>\n",
              "    </tr>\n",
              "    <tr>\n",
              "      <th>75%</th>\n",
              "      <td>1340.000000</td>\n",
              "      <td>69.100000</td>\n",
              "      <td>146.000000</td>\n",
              "      <td>371.000000</td>\n",
              "      <td>5.177704</td>\n",
              "      <td>80.400000</td>\n",
              "      <td>26.700000</td>\n",
              "      <td>1.946479</td>\n",
              "      <td>6.347826</td>\n",
              "      <td>6.081967</td>\n",
              "      <td>2.010000</td>\n",
              "      <td>1.112500</td>\n",
              "      <td>1.340000</td>\n",
              "    </tr>\n",
              "    <tr>\n",
              "      <th>max</th>\n",
              "      <td>241000.000000</td>\n",
              "      <td>194000.000000</td>\n",
              "      <td>121000.000000</td>\n",
              "      <td>544000.000000</td>\n",
              "      <td>6083.118289</td>\n",
              "      <td>27700.000000</td>\n",
              "      <td>9550.000000</td>\n",
              "      <td>5464.788732</td>\n",
              "      <td>5260.869565</td>\n",
              "      <td>8918.032787</td>\n",
              "      <td>692.500000</td>\n",
              "      <td>397.916667</td>\n",
              "      <td>241.000000</td>\n",
              "    </tr>\n",
              "  </tbody>\n",
              "</table>\n",
              "</div>"
            ],
            "text/plain": [
              "             SC_uScm         Cl_mgL  ...       Mg_mmol        SC_dSm\n",
              "count   66613.000000   66613.000000  ...  66613.000000  66613.000000\n",
              "mean     1357.250536     204.251665  ...      1.119608      1.357251\n",
              "std      4518.059411    2525.823604  ...      4.265113      4.518059\n",
              "min        10.000000       0.050000  ...      0.000167      0.010000\n",
              "25%       380.000000       6.500000  ...      0.150000      0.380000\n",
              "50%       666.000000      19.000000  ...      0.445417      0.666000\n",
              "75%      1340.000000      69.100000  ...      1.112500      1.340000\n",
              "max    241000.000000  194000.000000  ...    397.916667    241.000000\n",
              "\n",
              "[8 rows x 13 columns]"
            ]
          },
          "metadata": {
            "tags": []
          },
          "execution_count": 68
        }
      ]
    },
    {
      "cell_type": "code",
      "metadata": {
        "id": "3rXc1YKazim3"
      },
      "source": [
        "new_df.to_csv('wqi_imp_badeWala.csv')"
      ],
      "execution_count": null,
      "outputs": []
    },
    {
      "cell_type": "code",
      "metadata": {
        "id": "_MiyOv9H7wpk"
      },
      "source": [
        ""
      ],
      "execution_count": null,
      "outputs": []
    }
  ]
}